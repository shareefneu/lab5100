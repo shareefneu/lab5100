{
 "cells": [
  {
   "cell_type": "code",
   "execution_count": 19,
   "id": "034d2d37",
   "metadata": {},
   "outputs": [
    {
     "name": "stdout",
     "output_type": "stream",
     "text": [
      "Matrix A:\n",
      "[[ 63   3]\n",
      " [-88   6]\n",
      " [ 84 -61]\n",
      " [-78  86]\n",
      " [ 67  14]]\n",
      "\n",
      "Vector x:\n",
      "[[ 69]\n",
      " [-94]]\n",
      "\n",
      "Ax:\n",
      "[[  4065]\n",
      " [ -6636]\n",
      " [ 11530]\n",
      " [-13466]\n",
      " [  3307]]\n",
      "\n",
      "Matrix B:\n",
      "[[1 0 0 0 0]\n",
      " [0 2 0 0 0]\n",
      " [0 0 3 0 0]\n",
      " [0 0 0 4 0]\n",
      " [0 0 0 0 5]]\n",
      "\n",
      "BA:\n",
      "[[  63    3]\n",
      " [-176   12]\n",
      " [ 252 -183]\n",
      " [-312  344]\n",
      " [ 335   70]]\n"
     ]
    }
   ],
   "source": [
    "import numpy as np\n",
    "\n",
    "# Forming a matrix A of dimensions 5x2 and a vector x of dimensions 2x1,\n",
    "# both filled with random whole numbers between -100 to 100.\n",
    "A = np.random.randint(-100, 100, size=(5, 2))\n",
    "x = np.random.randint(-100, 100, size=(2, 1))\n",
    "\n",
    "# Printing matrix A and vector x\n",
    "print(\"Matrix A:\")\n",
    "print(A)\n",
    "print(\"\\nVector x:\")\n",
    "print(x)\n",
    "\n",
    "# Calculating Ax\n",
    "Ax = np.dot(A, x)\n",
    "print(\"\\nAx:\")\n",
    "print(Ax)\n",
    "\n",
    "# Constructing a diagonal matrix B, with the elements [1,2,3,4,5] populating the diagonal.\n",
    "B = np.diag([1, 2, 3 ,4 ,5])\n",
    "print(\"\\nMatrix B:\")\n",
    "print(B)\n",
    "\n",
    "# Calculating BA\n",
    "BA = np.dot(B,A)\n",
    "print(\"\\nBA:\")\n",
    "print(BA)\n"
   ]
  },
  {
   "cell_type": "code",
   "execution_count": 20,
   "id": "e0da1125",
   "metadata": {},
   "outputs": [
    {
     "name": "stdout",
     "output_type": "stream",
     "text": [
      "\n",
      "The rank of Matrix A is: 2\n",
      "The rank of Matrix B is: 5\n",
      "The rank of BA is: 2\n"
     ]
    }
   ],
   "source": [
    "# Calculating rank of A and B\n",
    "rank_A = np.linalg.matrix_rank(A)\n",
    "rank_B = np.linalg.matrix_rank(B)\n",
    "rank_BA = np.linalg.matrix_rank(BA)\n",
    "print(\"\\nThe rank of Matrix A is:\", rank_A)\n",
    "print(\"The rank of Matrix B is:\", rank_B)\n",
    "print(\"The rank of BA is:\", rank_BA)"
   ]
  },
  {
   "cell_type": "code",
   "execution_count": 25,
   "id": "4473e4e3",
   "metadata": {},
   "outputs": [
    {
     "name": "stdout",
     "output_type": "stream",
     "text": [
      "Matrix A:\n",
      " [[-2  1  8]\n",
      " [-1 -1  7]\n",
      " [ 3  0  4]]\n",
      "\n",
      "Matrix B:\n",
      " [[ 5  0 -7]\n",
      " [ 6  3 -9]\n",
      " [-2 -2  0]]\n",
      "\n",
      "AB:\n",
      " [[-20 -13   5]\n",
      " [-25 -17  16]\n",
      " [  7  -8 -21]]\n",
      "\n",
      "BA:\n",
      " [[-31   5  12]\n",
      " [-42   3  33]\n",
      " [  6   0 -30]]\n",
      "\n",
      "AB-BA:\n",
      " [[ 11 -18  -7]\n",
      " [ 17 -20 -17]\n",
      " [  1  -8   9]]\n",
      "\n",
      "ABC:\n",
      " [[-151 -117   -5]\n",
      " [-200 -159   68]\n",
      " [  47   10 -215]]\n"
     ]
    }
   ],
   "source": [
    "import numpy as np\n",
    "\n",
    "# Creating matrices A and B\n",
    "A = np.array([[-2, 1, 8], [-1, -1, 7], [3, 0, 4]])\n",
    "B = np.array([[5, 0, -7], [6, 3, -9], [-2, -2, 0]])\n",
    "C = np.array([[6, 3, -1], [2, 4, 5], [-1, -1, 8]])\n",
    "# Calculating AB\n",
    "AB = np.dot(A, B)\n",
    "\n",
    "# Calculating BA\n",
    "BA = np.dot(B, A)\n",
    "\n",
    "X = AB-BA\n",
    "Y = np.dot(AB, C)\n",
    "\n",
    "print(\"Matrix A:\\n\", A)\n",
    "print(\"\\nMatrix B:\\n\", B)\n",
    "print(\"\\nAB:\\n\", AB)\n",
    "print(\"\\nBA:\\n\", BA)\n",
    "print(\"\\nAB-BA:\\n\", X)\n",
    "print(\"\\nABC:\\n\", Y)"
   ]
  },
  {
   "cell_type": "code",
   "execution_count": null,
   "id": "63bc8f0f",
   "metadata": {
    "scrolled": true
   },
   "outputs": [],
   "source": [
    "\n"
   ]
  },
  {
   "cell_type": "code",
   "execution_count": 35,
   "id": "c22467f7",
   "metadata": {},
   "outputs": [
    {
     "name": "stdout",
     "output_type": "stream",
     "text": [
      "[[-2  1  8]\n",
      " [-1 -1  7]\n",
      " [ 3  0  4]\n",
      " [ 5  0 -7]\n",
      " [ 6  3 -9]\n",
      " [-2 -2  0]\n",
      " [ 6  3 -1]\n",
      " [ 2  4  5]\n",
      " [-1 -1  8]]\n",
      "\n",
      "b:\n",
      " [[  3]\n",
      " [-10]\n",
      " [  2]]\n"
     ]
    }
   ],
   "source": [
    "import numpy as np\n",
    "\n",
    "# Define matrices A, B, C\n",
    "A = np.array([[-2, 1, 8], [-1, -1, 7], [3, 0, 4]])\n",
    "B = np.array([[5, 0, -7], [6, 3, -9], [-2, -2, 0]])\n",
    "C = np.array([[6, 3, -1], [2, 4, 5], [-1, -1, 8]])\n",
    "\n",
    "# Concatenate A, B, C into a 9x3 matrix D\n",
    "D = np.concatenate((A, B, C))\n",
    "\n",
    "# Create vector b\n",
    "b = np.array([3, -10, 2]).reshape(-1, 1)\n",
    "\n",
    "# Compute least squares solution\n",
    "#x, residuals, rank, s = np.linalg.lstsq(D, b, rcond=None)\n",
    "\n",
    "#print(\"The least squares solution is:\\n\", x)\n",
    "print(D)\n",
    "print(\"\\nb:\\n\", b)"
   ]
  },
  {
   "cell_type": "code",
   "execution_count": 36,
   "id": "a6e4be96",
   "metadata": {},
   "outputs": [
    {
     "name": "stdout",
     "output_type": "stream",
     "text": [
      "The probability that a randomly selected college student drinks between 2.2 and 3.8 cups of coffee per day is 0.6826894921370859\n"
     ]
    }
   ],
   "source": [
    "from scipy.stats import norm\n",
    "\n",
    "# mean and standard deviation\n",
    "mu = 3\n",
    "sigma = 0.8\n",
    "\n",
    "# calculate the z-scores\n",
    "z1 = (2.2 - mu) / sigma\n",
    "z2 = (3.8 - mu) / sigma\n",
    "\n",
    "# use the cumulative distribution function (CDF) to get the probabilities\n",
    "p1 = norm.cdf(z1)\n",
    "p2 = norm.cdf(z2)\n",
    "\n",
    "# the probability of a value falling between 2.2 and 3.8 is the difference between the two probabilities\n",
    "p = p2 - p1\n",
    "\n",
    "print(\"The probability that a randomly selected college student drinks between 2.2 and 3.8 cups of coffee per day is\", p)\n"
   ]
  },
  {
   "cell_type": "code",
   "execution_count": 39,
   "id": "0699cb32",
   "metadata": {},
   "outputs": [
    {
     "name": "stdout",
     "output_type": "stream",
     "text": [
      "Matrix D:\n",
      "[[-2  1  8  5  0 -7  6  3 -1]\n",
      " [-1 -1  7  6  3 -9  2  4  5]\n",
      " [ 3  0  4 -2 -2  0 -1 -1  8]]\n",
      "\n",
      "Least squares solution x:\n",
      "[ 0.15053282  0.49890198  0.68400043 -0.56288901 -1.02020685  0.58207024\n",
      "  0.8280899  -0.41396702 -0.49245863]\n"
     ]
    }
   ],
   "source": [
    "import numpy as np\n",
    "\n",
    "# Define matrices A, B, C\n",
    "A = np.array([[-2, 1, 8],\n",
    "              [-1, -1, 7],\n",
    "              [3, 0, 4]])\n",
    "\n",
    "B = np.array([[5, 0, -7],\n",
    "              [6, 3, -9],\n",
    "              [-2, -2, 0]])\n",
    "\n",
    "C = np.array([[6, 3, -1],\n",
    "              [2, 4, 5],\n",
    "              [-1, -1, 8]])\n",
    "\n",
    "# Concatenate matrices A, B, C to create matrix D\n",
    "D = np.concatenate((A, B, C), axis=1)\n",
    "\n",
    "# Display matrix D\n",
    "print(\"Matrix D:\")\n",
    "print(D)\n",
    "\n",
    "# Create vector b\n",
    "b = np.array([3, -10, 2])\n",
    "\n",
    "# Find the least squares solution x that minimizes ||D^T x - b||^2\n",
    "x_least_squares = np.linalg.lstsq(D, b, rcond=None)[0]\n",
    "\n",
    "# Display the result\n",
    "print(\"\\nLeast squares solution x:\")\n",
    "print(x_least_squares)"
   ]
  },
  {
   "cell_type": "code",
   "execution_count": 51,
   "id": "5e8a1baf",
   "metadata": {},
   "outputs": [
    {
     "name": "stdout",
     "output_type": "stream",
     "text": [
      "The 95% confidence interval for the true mean price is (511.4451904629338, 1173.7548095370662)\n"
     ]
    }
   ],
   "source": [
    "import numpy as np\n",
    "from scipy import stats\n",
    "\n",
    "# Prices\n",
    "prices = np.array([999, 1499, 1997, 398, 591, 498, 798, 849, 449, 348])\n",
    "\n",
    "# Sample mean (average)\n",
    "mean = np.mean(prices)\n",
    "\n",
    "# Sample standard deviation\n",
    "std_dev = np.std(prices, ddof=1)  # ddof=1 for sample standard deviation\n",
    "\n",
    "# Sample size\n",
    "n = len(prices)\n",
    "\n",
    "# Z-score for 95% confidence\n",
    "z = stats.norm.ppf(0.975)  # two-tailed 95% confidence\n",
    "\n",
    "# Margin of error\n",
    "margin_of_error = z * (std_dev / np.sqrt(n))\n",
    "\n",
    "# Confidence interval\n",
    "conf_interval = (mean - margin_of_error, mean + margin_of_error)\n",
    "\n",
    "print(\"The 95% confidence interval for the true mean price is\", conf_interval)\n"
   ]
  },
  {
   "cell_type": "code",
   "execution_count": 52,
   "id": "5a7edc6d",
   "metadata": {},
   "outputs": [
    {
     "name": "stdout",
     "output_type": "stream",
     "text": [
      "Do not reject the null hypothesis\n"
     ]
    }
   ],
   "source": [
    "import numpy as np\n",
    "from scipy import stats\n",
    "\n",
    "# Given values\n",
    "x_bar = 13.4  # sample mean\n",
    "mu = 12  # population mean\n",
    "sigma = 4.5  # population standard deviation\n",
    "n = 50  # sample size\n",
    "alpha = 0.01  # significance level\n",
    "\n",
    "# Calculate the test statistic (z-score)\n",
    "z = (x_bar - mu) / (sigma / np.sqrt(n))\n",
    "\n",
    "# Calculate the critical z-value for a two-tailed test\n",
    "z_critical = stats.norm.ppf(1 - alpha/2)\n",
    "\n",
    "# Check if we should reject the null hypothesis\n",
    "if np.abs(z) > np.abs(z_critical):\n",
    "    print(\"Reject the null hypothesis\")\n",
    "else:\n",
    "    print(\"Do not reject the null hypothesis\")\n"
   ]
  },
  {
   "cell_type": "code",
   "execution_count": 53,
   "id": "37ff755e",
   "metadata": {},
   "outputs": [
    {
     "name": "stdout",
     "output_type": "stream",
     "text": [
      "Reject the null hypothesis\n"
     ]
    }
   ],
   "source": [
    "import numpy as np\n",
    "from scipy import stats\n",
    "\n",
    "# Grades\n",
    "grades = np.array([92.3, 89.4, 76.9, 65.2, 49.1, 96.7, 69.5, 72.8, 67.5, 52.8, 88.5, 79.2, 72.9, 68.7, 75.8])\n",
    "\n",
    "# Sample variance\n",
    "s_squared = np.var(grades, ddof=1)  # ddof=1 for sample variance\n",
    "\n",
    "# Sample size\n",
    "n = len(grades)\n",
    "\n",
    "# Population variance under H0\n",
    "sigma_squared = 100\n",
    "\n",
    "# Calculate the test statistic (chi-square)\n",
    "chi_squared = (n - 1) * s_squared / sigma_squared\n",
    "\n",
    "# Calculate the critical chi-square value for alpha = 0.05 with n - 1 degrees of freedom\n",
    "chi_squared_critical = stats.chi2.ppf(1 - 0.05, df=n - 1)\n",
    "\n",
    "# Check if we should reject the null hypothesis\n",
    "if chi_squared > chi_squared_critical:\n",
    "    print(\"Reject the null hypothesis\")\n",
    "else:\n",
    "    print(\"Do not reject the null hypothesis\")\n"
   ]
  }
 ],
 "metadata": {
  "kernelspec": {
   "display_name": "Python 3 (ipykernel)",
   "language": "python",
   "name": "python3"
  },
  "language_info": {
   "codemirror_mode": {
    "name": "ipython",
    "version": 3
   },
   "file_extension": ".py",
   "mimetype": "text/x-python",
   "name": "python",
   "nbconvert_exporter": "python",
   "pygments_lexer": "ipython3",
   "version": "3.11.5"
  }
 },
 "nbformat": 4,
 "nbformat_minor": 5
}
